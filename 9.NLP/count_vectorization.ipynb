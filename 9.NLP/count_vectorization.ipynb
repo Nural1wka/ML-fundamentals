{
 "cells": [
  {
   "cell_type": "code",
   "execution_count": null,
   "metadata": {},
   "outputs": [],
   "source": [
    "with open('text1.txt') as text:\n",
    "    words_1 = text.read().lower().split()\n",
    "    unique_1 = set(words_1)"
   ]
  },
  {
   "cell_type": "code",
   "execution_count": 25,
   "metadata": {},
   "outputs": [
    {
     "data": {
      "text/plain": [
       "{'a',\n",
       " 'about',\n",
       " 'animals',\n",
       " 'are',\n",
       " 'canine',\n",
       " 'dogs',\n",
       " 'furry',\n",
       " 'is',\n",
       " 'our',\n",
       " 'pets',\n",
       " 'story',\n",
       " 'this'}"
      ]
     },
     "execution_count": 25,
     "metadata": {},
     "output_type": "execute_result"
    }
   ],
   "source": [
    "# Convert the text to lowercase and split into words to make a bag of words\n",
    "unique_1"
   ]
  },
  {
   "cell_type": "code",
   "execution_count": 20,
   "metadata": {},
   "outputs": [],
   "source": [
    "with open('text2.txt') as text:\n",
    "    words_2 = text.read().lower().split()\n",
    "    unique_2 = set(words_2)"
   ]
  },
  {
   "cell_type": "code",
   "execution_count": 21,
   "metadata": {},
   "outputs": [
    {
     "data": {
      "text/plain": [
       "{'a',\n",
       " 'about',\n",
       " 'catching',\n",
       " 'fun',\n",
       " 'is',\n",
       " 'popular',\n",
       " 'sport',\n",
       " 'story',\n",
       " 'surfing',\n",
       " 'this',\n",
       " 'water',\n",
       " 'waves'}"
      ]
     },
     "execution_count": 21,
     "metadata": {},
     "output_type": "execute_result"
    }
   ],
   "source": [
    "unique_2"
   ]
  },
  {
   "cell_type": "code",
   "execution_count": 26,
   "metadata": {},
   "outputs": [],
   "source": [
    "all_unique = set()"
   ]
  },
  {
   "cell_type": "code",
   "execution_count": 28,
   "metadata": {},
   "outputs": [
    {
     "data": {
      "text/plain": [
       "{'a',\n",
       " 'about',\n",
       " 'animals',\n",
       " 'are',\n",
       " 'canine',\n",
       " 'dogs',\n",
       " 'furry',\n",
       " 'is',\n",
       " 'our',\n",
       " 'pets',\n",
       " 'story',\n",
       " 'this'}"
      ]
     },
     "execution_count": 28,
     "metadata": {},
     "output_type": "execute_result"
    }
   ],
   "source": [
    "all_unique.update(unique_1)\n",
    "all_unique "
   ]
  },
  {
   "cell_type": "code",
   "execution_count": null,
   "metadata": {},
   "outputs": [
    {
     "data": {
      "text/plain": [
       "{'a',\n",
       " 'about',\n",
       " 'animals',\n",
       " 'are',\n",
       " 'canine',\n",
       " 'catching',\n",
       " 'dogs',\n",
       " 'fun',\n",
       " 'furry',\n",
       " 'is',\n",
       " 'our',\n",
       " 'pets',\n",
       " 'popular',\n",
       " 'sport',\n",
       " 'story',\n",
       " 'surfing',\n",
       " 'this',\n",
       " 'water',\n",
       " 'waves'}"
      ]
     },
     "execution_count": 34,
     "metadata": {},
     "output_type": "execute_result"
    }
   ],
   "source": [
    "all_unique.update(unique_2)\n",
    "all_unique\n",
    "# The union of two sets contains all unique elements from both sets\n",
    "# unique words from both documents/texts"
   ]
  },
  {
   "cell_type": "code",
   "execution_count": 44,
   "metadata": {},
   "outputs": [],
   "source": [
    "vocab = dict()\n",
    "i = 0\n",
    "\n",
    "for word in all_unique:\n",
    "    vocab[word] = i\n",
    "    i += 1"
   ]
  },
  {
   "cell_type": "code",
   "execution_count": 45,
   "metadata": {},
   "outputs": [
    {
     "data": {
      "text/plain": [
       "{'water': 0,\n",
       " 'waves': 1,\n",
       " 'about': 2,\n",
       " 'story': 3,\n",
       " 'are': 4,\n",
       " 'furry': 5,\n",
       " 'fun': 6,\n",
       " 'pets': 7,\n",
       " 'a': 8,\n",
       " 'canine': 9,\n",
       " 'surfing': 10,\n",
       " 'this': 11,\n",
       " 'popular': 12,\n",
       " 'our': 13,\n",
       " 'is': 14,\n",
       " 'sport': 15,\n",
       " 'animals': 16,\n",
       " 'catching': 17,\n",
       " 'dogs': 18}"
      ]
     },
     "execution_count": 45,
     "metadata": {},
     "output_type": "execute_result"
    }
   ],
   "source": [
    "vocab"
   ]
  },
  {
   "cell_type": "code",
   "execution_count": 60,
   "metadata": {},
   "outputs": [],
   "source": [
    "freq_1 = [0] * len(vocab)\n",
    "freq_2 = [0] * len(vocab)\n",
    "all_words = [''] * len(vocab)"
   ]
  },
  {
   "cell_type": "code",
   "execution_count": 61,
   "metadata": {},
   "outputs": [
    {
     "data": {
      "text/plain": [
       "([0, 0, 0, 0, 0, 0, 0, 0, 0, 0, 0, 0, 0, 0, 0, 0, 0, 0, 0],\n",
       " [0, 0, 0, 0, 0, 0, 0, 0, 0, 0, 0, 0, 0, 0, 0, 0, 0, 0, 0],\n",
       " ['', '', '', '', '', '', '', '', '', '', '', '', '', '', '', '', '', '', ''])"
      ]
     },
     "execution_count": 61,
     "metadata": {},
     "output_type": "execute_result"
    }
   ],
   "source": [
    "freq_1, freq_2, all_words"
   ]
  },
  {
   "cell_type": "code",
   "execution_count": 62,
   "metadata": {},
   "outputs": [
    {
     "data": {
      "text/plain": [
       "{'water': 0,\n",
       " 'waves': 1,\n",
       " 'about': 2,\n",
       " 'story': 3,\n",
       " 'are': 4,\n",
       " 'furry': 5,\n",
       " 'fun': 6,\n",
       " 'pets': 7,\n",
       " 'a': 8,\n",
       " 'canine': 9,\n",
       " 'surfing': 10,\n",
       " 'this': 11,\n",
       " 'popular': 12,\n",
       " 'our': 13,\n",
       " 'is': 14,\n",
       " 'sport': 15,\n",
       " 'animals': 16,\n",
       " 'catching': 17,\n",
       " 'dogs': 18}"
      ]
     },
     "execution_count": 62,
     "metadata": {},
     "output_type": "execute_result"
    }
   ],
   "source": [
    "vocab"
   ]
  },
  {
   "cell_type": "code",
   "execution_count": 63,
   "metadata": {},
   "outputs": [],
   "source": [
    "with open('text1.txt') as text:\n",
    "    text1 = text.read().lower().split()"
   ]
  },
  {
   "cell_type": "code",
   "execution_count": 64,
   "metadata": {},
   "outputs": [],
   "source": [
    "for word in text1:\n",
    "    word_ind = vocab[word]\n",
    "    freq_1[word_ind] += 1"
   ]
  },
  {
   "cell_type": "code",
   "execution_count": 65,
   "metadata": {},
   "outputs": [
    {
     "data": {
      "text/plain": [
       "[0, 0, 1, 1, 1, 1, 0, 1, 1, 1, 0, 1, 0, 1, 1, 0, 1, 0, 2]"
      ]
     },
     "execution_count": 65,
     "metadata": {},
     "output_type": "execute_result"
    }
   ],
   "source": [
    "freq_1"
   ]
  },
  {
   "cell_type": "code",
   "execution_count": 79,
   "metadata": {},
   "outputs": [
    {
     "data": {
      "text/plain": [
       "Counter({'dogs': 2,\n",
       "         'this': 1,\n",
       "         'is': 1,\n",
       "         'a': 1,\n",
       "         'story': 1,\n",
       "         'about': 1,\n",
       "         'our': 1,\n",
       "         'canine': 1,\n",
       "         'pets': 1,\n",
       "         'are': 1,\n",
       "         'furry': 1,\n",
       "         'animals': 1})"
      ]
     },
     "execution_count": 79,
     "metadata": {},
     "output_type": "execute_result"
    }
   ],
   "source": [
    "#or using Counter from collections\n",
    "from collections import Counter\n",
    "\n",
    "freq_1_counter = Counter(text1)\n",
    "freq_1_counter"
   ]
  },
  {
   "cell_type": "code",
   "execution_count": 66,
   "metadata": {},
   "outputs": [],
   "source": [
    "with open('text2.txt') as text:\n",
    "    text2 = text.read().lower().split()"
   ]
  },
  {
   "cell_type": "code",
   "execution_count": 67,
   "metadata": {},
   "outputs": [],
   "source": [
    "for word in text2:\n",
    "    word_ind = vocab[word]\n",
    "    freq_2[word_ind] += 1"
   ]
  },
  {
   "cell_type": "code",
   "execution_count": 68,
   "metadata": {},
   "outputs": [
    {
     "data": {
      "text/plain": [
       "[1, 1, 1, 1, 0, 0, 1, 0, 1, 0, 2, 1, 1, 0, 3, 1, 0, 1, 0]"
      ]
     },
     "execution_count": 68,
     "metadata": {},
     "output_type": "execute_result"
    }
   ],
   "source": [
    "freq_2"
   ]
  },
  {
   "cell_type": "code",
   "execution_count": 80,
   "metadata": {},
   "outputs": [
    {
     "data": {
      "text/plain": [
       "Counter({'is': 3,\n",
       "         'surfing': 2,\n",
       "         'this': 1,\n",
       "         'story': 1,\n",
       "         'about': 1,\n",
       "         'catching': 1,\n",
       "         'waves': 1,\n",
       "         'fun': 1,\n",
       "         'a': 1,\n",
       "         'popular': 1,\n",
       "         'water': 1,\n",
       "         'sport': 1})"
      ]
     },
     "execution_count": 80,
     "metadata": {},
     "output_type": "execute_result"
    }
   ],
   "source": [
    "#or using Counter from collections\n",
    "freq_2_counter = Counter(text2)\n",
    "freq_2_counter"
   ]
  },
  {
   "cell_type": "code",
   "execution_count": 69,
   "metadata": {},
   "outputs": [],
   "source": [
    "for word in vocab:\n",
    "    word_ind = vocab[word]\n",
    "    all_words[word_ind] = word"
   ]
  },
  {
   "cell_type": "code",
   "execution_count": 70,
   "metadata": {},
   "outputs": [
    {
     "data": {
      "text/plain": [
       "['water',\n",
       " 'waves',\n",
       " 'about',\n",
       " 'story',\n",
       " 'are',\n",
       " 'furry',\n",
       " 'fun',\n",
       " 'pets',\n",
       " 'a',\n",
       " 'canine',\n",
       " 'surfing',\n",
       " 'this',\n",
       " 'popular',\n",
       " 'our',\n",
       " 'is',\n",
       " 'sport',\n",
       " 'animals',\n",
       " 'catching',\n",
       " 'dogs']"
      ]
     },
     "execution_count": 70,
     "metadata": {},
     "output_type": "execute_result"
    }
   ],
   "source": [
    "all_words"
   ]
  },
  {
   "cell_type": "code",
   "execution_count": 75,
   "metadata": {},
   "outputs": [],
   "source": [
    "import pandas as pd"
   ]
  },
  {
   "cell_type": "code",
   "execution_count": 78,
   "metadata": {},
   "outputs": [
    {
     "data": {
      "text/html": [
       "<div>\n",
       "<style scoped>\n",
       "    .dataframe tbody tr th:only-of-type {\n",
       "        vertical-align: middle;\n",
       "    }\n",
       "\n",
       "    .dataframe tbody tr th {\n",
       "        vertical-align: top;\n",
       "    }\n",
       "\n",
       "    .dataframe thead th {\n",
       "        text-align: right;\n",
       "    }\n",
       "</style>\n",
       "<table border=\"1\" class=\"dataframe\">\n",
       "  <thead>\n",
       "    <tr style=\"text-align: right;\">\n",
       "      <th></th>\n",
       "      <th>water</th>\n",
       "      <th>waves</th>\n",
       "      <th>about</th>\n",
       "      <th>story</th>\n",
       "      <th>are</th>\n",
       "      <th>furry</th>\n",
       "      <th>fun</th>\n",
       "      <th>pets</th>\n",
       "      <th>a</th>\n",
       "      <th>canine</th>\n",
       "      <th>surfing</th>\n",
       "      <th>this</th>\n",
       "      <th>popular</th>\n",
       "      <th>our</th>\n",
       "      <th>is</th>\n",
       "      <th>sport</th>\n",
       "      <th>animals</th>\n",
       "      <th>catching</th>\n",
       "      <th>dogs</th>\n",
       "    </tr>\n",
       "  </thead>\n",
       "  <tbody>\n",
       "    <tr>\n",
       "      <th>text1</th>\n",
       "      <td>0</td>\n",
       "      <td>0</td>\n",
       "      <td>1</td>\n",
       "      <td>1</td>\n",
       "      <td>1</td>\n",
       "      <td>1</td>\n",
       "      <td>0</td>\n",
       "      <td>1</td>\n",
       "      <td>1</td>\n",
       "      <td>1</td>\n",
       "      <td>0</td>\n",
       "      <td>1</td>\n",
       "      <td>0</td>\n",
       "      <td>1</td>\n",
       "      <td>1</td>\n",
       "      <td>0</td>\n",
       "      <td>1</td>\n",
       "      <td>0</td>\n",
       "      <td>2</td>\n",
       "    </tr>\n",
       "    <tr>\n",
       "      <th>text2</th>\n",
       "      <td>1</td>\n",
       "      <td>1</td>\n",
       "      <td>1</td>\n",
       "      <td>1</td>\n",
       "      <td>0</td>\n",
       "      <td>0</td>\n",
       "      <td>1</td>\n",
       "      <td>0</td>\n",
       "      <td>1</td>\n",
       "      <td>0</td>\n",
       "      <td>2</td>\n",
       "      <td>1</td>\n",
       "      <td>1</td>\n",
       "      <td>0</td>\n",
       "      <td>3</td>\n",
       "      <td>1</td>\n",
       "      <td>0</td>\n",
       "      <td>1</td>\n",
       "      <td>0</td>\n",
       "    </tr>\n",
       "  </tbody>\n",
       "</table>\n",
       "</div>"
      ],
      "text/plain": [
       "       water  waves  about  story  are  furry  fun  pets  a  canine  surfing  \\\n",
       "text1      0      0      1      1    1      1    0     1  1       1        0   \n",
       "text2      1      1      1      1    0      0    1     0  1       0        2   \n",
       "\n",
       "       this  popular  our  is  sport  animals  catching  dogs  \n",
       "text1     1        0    1   1      0        1         0     2  \n",
       "text2     1        1    0   3      1        0         1     0  "
      ]
     },
     "execution_count": 78,
     "metadata": {},
     "output_type": "execute_result"
    }
   ],
   "source": [
    "bag_of_words = pd.DataFrame(columns=all_words, data=[freq_1, freq_2], index=['text1', 'text2'])\n",
    "bag_of_words"
   ]
  },
  {
   "cell_type": "markdown",
   "metadata": {},
   "source": [
    "## Another Implementation"
   ]
  },
  {
   "cell_type": "code",
   "execution_count": 84,
   "metadata": {},
   "outputs": [
    {
     "data": {
      "text/plain": [
       "['water',\n",
       " 'story',\n",
       " 'are',\n",
       " 'fun',\n",
       " 'canine',\n",
       " 'animals',\n",
       " 'catching',\n",
       " 'dogs',\n",
       " 'waves',\n",
       " 'about',\n",
       " 'furry',\n",
       " 'pets',\n",
       " 'a',\n",
       " 'surfing',\n",
       " 'this',\n",
       " 'popular',\n",
       " 'our',\n",
       " 'is',\n",
       " 'sport']"
      ]
     },
     "execution_count": 84,
     "metadata": {},
     "output_type": "execute_result"
    }
   ],
   "source": [
    "all_words = list(set(text1 + text2))\n",
    "all_words"
   ]
  },
  {
   "cell_type": "code",
   "execution_count": 85,
   "metadata": {},
   "outputs": [],
   "source": [
    "from collections import Counter"
   ]
  },
  {
   "cell_type": "code",
   "execution_count": 86,
   "metadata": {},
   "outputs": [],
   "source": [
    "one_count = Counter(text1)\n",
    "two_count = Counter(text2)"
   ]
  },
  {
   "cell_type": "code",
   "execution_count": 87,
   "metadata": {},
   "outputs": [],
   "source": [
    "import pandas as pd"
   ]
  },
  {
   "cell_type": "code",
   "execution_count": 88,
   "metadata": {},
   "outputs": [
    {
     "data": {
      "text/html": [
       "<div>\n",
       "<style scoped>\n",
       "    .dataframe tbody tr th:only-of-type {\n",
       "        vertical-align: middle;\n",
       "    }\n",
       "\n",
       "    .dataframe tbody tr th {\n",
       "        vertical-align: top;\n",
       "    }\n",
       "\n",
       "    .dataframe thead th {\n",
       "        text-align: right;\n",
       "    }\n",
       "</style>\n",
       "<table border=\"1\" class=\"dataframe\">\n",
       "  <thead>\n",
       "    <tr style=\"text-align: right;\">\n",
       "      <th></th>\n",
       "      <th>this</th>\n",
       "      <th>is</th>\n",
       "      <th>a</th>\n",
       "      <th>story</th>\n",
       "      <th>about</th>\n",
       "      <th>dogs</th>\n",
       "      <th>our</th>\n",
       "      <th>canine</th>\n",
       "      <th>pets</th>\n",
       "      <th>are</th>\n",
       "      <th>furry</th>\n",
       "      <th>animals</th>\n",
       "      <th>surfing</th>\n",
       "      <th>catching</th>\n",
       "      <th>waves</th>\n",
       "      <th>fun</th>\n",
       "      <th>popular</th>\n",
       "      <th>water</th>\n",
       "      <th>sport</th>\n",
       "    </tr>\n",
       "  </thead>\n",
       "  <tbody>\n",
       "    <tr>\n",
       "      <th>text1</th>\n",
       "      <td>1</td>\n",
       "      <td>1</td>\n",
       "      <td>1</td>\n",
       "      <td>1</td>\n",
       "      <td>1</td>\n",
       "      <td>2</td>\n",
       "      <td>1</td>\n",
       "      <td>1</td>\n",
       "      <td>1</td>\n",
       "      <td>1</td>\n",
       "      <td>1</td>\n",
       "      <td>1</td>\n",
       "      <td>0</td>\n",
       "      <td>0</td>\n",
       "      <td>0</td>\n",
       "      <td>0</td>\n",
       "      <td>0</td>\n",
       "      <td>0</td>\n",
       "      <td>0</td>\n",
       "    </tr>\n",
       "    <tr>\n",
       "      <th>text2</th>\n",
       "      <td>1</td>\n",
       "      <td>3</td>\n",
       "      <td>1</td>\n",
       "      <td>1</td>\n",
       "      <td>1</td>\n",
       "      <td>0</td>\n",
       "      <td>0</td>\n",
       "      <td>0</td>\n",
       "      <td>0</td>\n",
       "      <td>0</td>\n",
       "      <td>0</td>\n",
       "      <td>0</td>\n",
       "      <td>2</td>\n",
       "      <td>1</td>\n",
       "      <td>1</td>\n",
       "      <td>1</td>\n",
       "      <td>1</td>\n",
       "      <td>1</td>\n",
       "      <td>1</td>\n",
       "    </tr>\n",
       "  </tbody>\n",
       "</table>\n",
       "</div>"
      ],
      "text/plain": [
       "       this  is  a  story  about  dogs  our  canine  pets  are  furry  \\\n",
       "text1     1   1  1      1      1     2    1       1     1    1      1   \n",
       "text2     1   3  1      1      1     0    0       0     0    0      0   \n",
       "\n",
       "       animals  surfing  catching  waves  fun  popular  water  sport  \n",
       "text1        1        0         0      0    0        0      0      0  \n",
       "text2        0        2         1      1    1        1      1      1  "
      ]
     },
     "execution_count": 88,
     "metadata": {},
     "output_type": "execute_result"
    }
   ],
   "source": [
    "pd.DataFrame([one_count, two_count], index=['text1', 'text2']).fillna(0).astype(int)"
   ]
  },
  {
   "cell_type": "code",
   "execution_count": null,
   "metadata": {},
   "outputs": [],
   "source": []
  }
 ],
 "metadata": {
  "kernelspec": {
   "display_name": "venv",
   "language": "python",
   "name": "python3"
  },
  "language_info": {
   "codemirror_mode": {
    "name": "ipython",
    "version": 3
   },
   "file_extension": ".py",
   "mimetype": "text/x-python",
   "name": "python",
   "nbconvert_exporter": "python",
   "pygments_lexer": "ipython3",
   "version": "3.13.5"
  }
 },
 "nbformat": 4,
 "nbformat_minor": 2
}
