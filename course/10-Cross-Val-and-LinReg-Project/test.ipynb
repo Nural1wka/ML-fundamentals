{
 "cells": [
  {
   "cell_type": "code",
   "execution_count": null,
   "metadata": {},
   "outputs": [],
   "source": [
    "import numpy as np\n",
    "from sklearn.datasets import load_diabetes\n",
    "from sklearn.linear_model import ElasticNet, ElasticNetCV\n",
    "from sklearn.model_selection import GridSearchCV, train_test_split\n",
    "\n",
    "# Load sample regression dataset\n",
    "X, y = load_diabetes(return_X_y=True)\n",
    "X_train, X_test, y_train, y_test = train_test_split(X, y, random_state=42)\n",
    "\n",
    "# -------------------------\n",
    "# 1. Using ElasticNetCV\n",
    "# -------------------------\n",
    "enet_cv = ElasticNetCV(\n",
    "    l1_ratio=[.1, .5, .7, .9, 1],  # try different mix of L1 vs L2\n",
    "    alphas=np.logspace(-3, 1, 50), # 50 values from 0.001 to 10\n",
    "    cv=5,\n",
    "    random_state=42\n",
    ")\n",
    "enet_cv.fit(X_train, y_train)\n",
    "\n",
    "print(\"ElasticNetCV:\")\n",
    "print(\"Best alpha:\", enet_cv.alpha_)\n",
    "print(\"Best l1_ratio:\", enet_cv.l1_ratio_)\n",
    "print(\"Test R^2:\", enet_cv.score(X_test, y_test))\n",
    "\n",
    "# -------------------------\n",
    "# 2. Using GridSearchCV\n",
    "# -------------------------\n",
    "param_grid = {\n",
    "    \"alpha\": np.logspace(-3, 1, 10),   # fewer alphas for speed\n",
    "    \"l1_ratio\": [0.1, 0.5, 0.7, 0.9, 1.0]\n",
    "}\n",
    "grid = GridSearchCV(\n",
    "    ElasticNet(random_state=42, max_iter=5000),\n",
    "    param_grid,\n",
    "    cv=5,\n",
    "    scoring=\"r2\"\n",
    ")\n",
    "grid.fit(X_train, y_train)\n",
    "\n",
    "print(\"\\nGridSearchCV:\")\n",
    "print(\"Best alpha:\", grid.best_params_[\"alpha\"])\n",
    "print(\"Best l1_ratio:\", grid.best_params_[\"l1_ratio\"])\n",
    "print(\"Test R^2:\", grid.score(X_test, y_test))\n"
   ]
  }
 ],
 "metadata": {
  "kernelspec": {
   "display_name": "venv",
   "language": "python",
   "name": "python3"
  },
  "language_info": {
   "name": "python",
   "version": "3.13.5"
  }
 },
 "nbformat": 4,
 "nbformat_minor": 2
}
