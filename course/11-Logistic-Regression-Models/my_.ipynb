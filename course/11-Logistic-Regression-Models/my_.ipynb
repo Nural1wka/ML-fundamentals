{
 "cells": [
  {
   "cell_type": "code",
   "execution_count": 49,
   "metadata": {},
   "outputs": [],
   "source": [
    "import numpy as np\n",
    "import pandas as pd\n",
    "import matplotlib.pyplot as plt\n",
    "import seaborn as sns\n",
    "\n",
    "import sympy as sp"
   ]
  },
  {
   "cell_type": "code",
   "execution_count": 6,
   "metadata": {},
   "outputs": [
    {
     "data": {
      "text/plain": [
       "array([-0.34361817, -0.14055448, -0.09029247, -1.12324563, -0.18137664,\n",
       "        0.35914834,  0.41147848, -0.32713519,  0.44001578, -0.20058703])"
      ]
     },
     "execution_count": 6,
     "metadata": {},
     "output_type": "execute_result"
    }
   ],
   "source": [
    "0 + 0.5 * np.random.randn(10)"
   ]
  },
  {
   "cell_type": "code",
   "execution_count": 271,
   "metadata": {},
   "outputs": [],
   "source": [
    "class LogisticRegression:\n",
    "    \n",
    "    def __init__(self, eta=0.1, n_iters=10):\n",
    "        self.eta = eta\n",
    "        self.n_iters = n_iters\n",
    "\n",
    "    def z(self, X):\n",
    "        return np.dot(X, self.weight_) + self.bias_\n",
    "    \n",
    "    def sigmoid(self, X):\n",
    "        self.probabilities = 1 / (1 + np.exp(-self.z(X)))\n",
    "        return self.probabilities\n",
    "    \n",
    "    def dL_w(self, X_train, y_pred, y_train):\n",
    "        return 1/len(y_pred) * np.dot(X_train.T, y_pred - y_train)\n",
    "    \n",
    "    def dL_b(self, y_pred, y_train):\n",
    "        return 1/len(y_pred) * np.sum(y_pred - y_train)\n",
    "\n",
    "\n",
    "    def fit(self, X_train, y_train):\n",
    "        self.weight_ = (0 + 0.5 * np.random.randn(X_train.shape[1])).T\n",
    "        self.bias_ = 1\n",
    "\n",
    "        for _ in range(0, self.n_iters):\n",
    "            \n",
    "            y_pred = self.sigmoid(X_train)\n",
    "            \n",
    "            self.weight_ = self.weight_ - self.eta * self.dL_w(X_train, y_pred, y_train)\n",
    "            self.bias_ = self.bias_ - self.eta * self.dL_b(y_pred, y_train)\n",
    "\n",
    "    \n",
    "    def predict(self, X_test):\n",
    "\n",
    "        #return self.sigmoid(X_test)\n",
    "        return (self.sigmoid(X_test) > 0.5).astype(int)\n",
    "        \n"
   ]
  },
  {
   "cell_type": "code",
   "execution_count": 67,
   "metadata": {},
   "outputs": [],
   "source": [
    "from sklearn.datasets import load_iris"
   ]
  },
  {
   "cell_type": "code",
   "execution_count": 225,
   "metadata": {},
   "outputs": [],
   "source": [
    "X = load_iris().data[:100]\n",
    "y = load_iris().target[:100]"
   ]
  },
  {
   "cell_type": "code",
   "execution_count": 226,
   "metadata": {},
   "outputs": [],
   "source": [
    "from sklearn.model_selection import train_test_split"
   ]
  },
  {
   "cell_type": "code",
   "execution_count": 227,
   "metadata": {},
   "outputs": [],
   "source": [
    "X_train, X_test, y_train, y_test = train_test_split(X, y, test_size=0.3)"
   ]
  },
  {
   "cell_type": "code",
   "execution_count": 267,
   "metadata": {},
   "outputs": [],
   "source": [
    "model = LogisticRegression()\n",
    "model.fit(X_train, y_train)"
   ]
  },
  {
   "cell_type": "code",
   "execution_count": 263,
   "metadata": {},
   "outputs": [
    {
     "data": {
      "text/plain": [
       "array([0.40784202, 0.64773083, 0.71960805, 0.44199364, 0.73132178,\n",
       "       0.46814366, 0.42922224, 0.69708166, 0.47642641, 0.41080057,\n",
       "       0.68798869, 0.46289445, 0.4505656 , 0.39056305, 0.44215535,\n",
       "       0.43956429, 0.6810982 , 0.69874806, 0.66765168, 0.73664284,\n",
       "       0.67207503, 0.64155911, 0.71522997, 0.38645141, 0.44972998,\n",
       "       0.68942141, 0.44564065, 0.70545905, 0.39814975, 0.42224261])"
      ]
     },
     "execution_count": 263,
     "metadata": {},
     "output_type": "execute_result"
    }
   ],
   "source": [
    "model.probabilities"
   ]
  },
  {
   "cell_type": "code",
   "execution_count": 254,
   "metadata": {},
   "outputs": [
    {
     "data": {
      "text/plain": [
       "array([0, 1, 1, 0, 1, 0, 0, 1, 0, 0, 1, 0, 0, 0, 0, 0, 1, 1, 1, 1, 1, 1,\n",
       "       1, 0, 0, 1, 0, 1, 0, 0])"
      ]
     },
     "execution_count": 254,
     "metadata": {},
     "output_type": "execute_result"
    }
   ],
   "source": [
    "y_test"
   ]
  },
  {
   "cell_type": "code",
   "execution_count": 268,
   "metadata": {},
   "outputs": [
    {
     "data": {
      "text/plain": [
       "array([1, 1, 1, 1, 1, 1, 0, 1, 1, 1, 1, 1, 1, 0, 1, 0, 1, 1, 1, 1, 1, 1,\n",
       "       1, 0, 1, 1, 1, 1, 0, 1])"
      ]
     },
     "execution_count": 268,
     "metadata": {},
     "output_type": "execute_result"
    }
   ],
   "source": [
    "y_pred = model.predict(X_test)\n",
    "y_pred"
   ]
  },
  {
   "cell_type": "code",
   "execution_count": 276,
   "metadata": {},
   "outputs": [],
   "source": [
    "from sklearn.metrics import confusion_matrix, recall_score, precision_score"
   ]
  },
  {
   "cell_type": "code",
   "execution_count": 275,
   "metadata": {},
   "outputs": [
    {
     "data": {
      "text/plain": [
       "array([[ 5, 11],\n",
       "       [ 0, 14]])"
      ]
     },
     "execution_count": 275,
     "metadata": {},
     "output_type": "execute_result"
    }
   ],
   "source": [
    "confusion_matrix(y_test, y_pred)"
   ]
  },
  {
   "cell_type": "code",
   "execution_count": null,
   "metadata": {},
   "outputs": [
    {
     "data": {
      "text/plain": [
       "1.0"
      ]
     },
     "execution_count": 274,
     "metadata": {},
     "output_type": "execute_result"
    }
   ],
   "source": [
    "recall_score(y_test, y_pred)\n",
    "#TP / (TP + FN) or 1st column\n",
    "#sensitivity\n",
    "\n",
    "#how many positive cases we correctly predicted out of all positive cases"
   ]
  },
  {
   "cell_type": "code",
   "execution_count": 277,
   "metadata": {},
   "outputs": [
    {
     "data": {
      "text/plain": [
       "0.56"
      ]
     },
     "execution_count": 277,
     "metadata": {},
     "output_type": "execute_result"
    }
   ],
   "source": [
    "precision_score(y_test, y_pred)"
   ]
  },
  {
   "cell_type": "code",
   "execution_count": null,
   "metadata": {},
   "outputs": [],
   "source": []
  }
 ],
 "metadata": {
  "kernelspec": {
   "display_name": "venv",
   "language": "python",
   "name": "python3"
  },
  "language_info": {
   "codemirror_mode": {
    "name": "ipython",
    "version": 3
   },
   "file_extension": ".py",
   "mimetype": "text/x-python",
   "name": "python",
   "nbconvert_exporter": "python",
   "pygments_lexer": "ipython3",
   "version": "3.13.5"
  }
 },
 "nbformat": 4,
 "nbformat_minor": 2
}
