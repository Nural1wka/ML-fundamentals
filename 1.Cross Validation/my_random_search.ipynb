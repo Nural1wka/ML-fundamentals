{
 "cells": [
  {
   "cell_type": "code",
   "execution_count": 1,
   "metadata": {},
   "outputs": [],
   "source": [
    "import pandas as pd\n",
    "import numpy as np\n",
    "import matplotlib.pyplot as plt\n",
    "import seaborn as sns"
   ]
  },
  {
   "cell_type": "code",
   "execution_count": 2,
   "metadata": {},
   "outputs": [],
   "source": [
    "df = pd.read_csv('../DATA/Advertising.csv')"
   ]
  },
  {
   "cell_type": "code",
   "execution_count": 4,
   "metadata": {},
   "outputs": [
    {
     "data": {
      "text/html": [
       "<div>\n",
       "<style scoped>\n",
       "    .dataframe tbody tr th:only-of-type {\n",
       "        vertical-align: middle;\n",
       "    }\n",
       "\n",
       "    .dataframe tbody tr th {\n",
       "        vertical-align: top;\n",
       "    }\n",
       "\n",
       "    .dataframe thead th {\n",
       "        text-align: right;\n",
       "    }\n",
       "</style>\n",
       "<table border=\"1\" class=\"dataframe\">\n",
       "  <thead>\n",
       "    <tr style=\"text-align: right;\">\n",
       "      <th></th>\n",
       "      <th>TV</th>\n",
       "      <th>radio</th>\n",
       "      <th>newspaper</th>\n",
       "      <th>sales</th>\n",
       "    </tr>\n",
       "  </thead>\n",
       "  <tbody>\n",
       "    <tr>\n",
       "      <th>0</th>\n",
       "      <td>230.1</td>\n",
       "      <td>37.8</td>\n",
       "      <td>69.2</td>\n",
       "      <td>22.1</td>\n",
       "    </tr>\n",
       "    <tr>\n",
       "      <th>1</th>\n",
       "      <td>44.5</td>\n",
       "      <td>39.3</td>\n",
       "      <td>45.1</td>\n",
       "      <td>10.4</td>\n",
       "    </tr>\n",
       "    <tr>\n",
       "      <th>2</th>\n",
       "      <td>17.2</td>\n",
       "      <td>45.9</td>\n",
       "      <td>69.3</td>\n",
       "      <td>9.3</td>\n",
       "    </tr>\n",
       "    <tr>\n",
       "      <th>3</th>\n",
       "      <td>151.5</td>\n",
       "      <td>41.3</td>\n",
       "      <td>58.5</td>\n",
       "      <td>18.5</td>\n",
       "    </tr>\n",
       "    <tr>\n",
       "      <th>4</th>\n",
       "      <td>180.8</td>\n",
       "      <td>10.8</td>\n",
       "      <td>58.4</td>\n",
       "      <td>12.9</td>\n",
       "    </tr>\n",
       "  </tbody>\n",
       "</table>\n",
       "</div>"
      ],
      "text/plain": [
       "      TV  radio  newspaper  sales\n",
       "0  230.1   37.8       69.2   22.1\n",
       "1   44.5   39.3       45.1   10.4\n",
       "2   17.2   45.9       69.3    9.3\n",
       "3  151.5   41.3       58.5   18.5\n",
       "4  180.8   10.8       58.4   12.9"
      ]
     },
     "execution_count": 4,
     "metadata": {},
     "output_type": "execute_result"
    }
   ],
   "source": [
    "df.head()"
   ]
  },
  {
   "cell_type": "code",
   "execution_count": 5,
   "metadata": {},
   "outputs": [],
   "source": [
    "X = df.drop('sales', axis=1)\n",
    "y = df['sales']"
   ]
  },
  {
   "cell_type": "code",
   "execution_count": 6,
   "metadata": {},
   "outputs": [],
   "source": [
    "from sklearn.model_selection import train_test_split\n",
    "X_train, X_test, y_train, y_test = train_test_split(X, y, test_size=0.3,\n",
    "                                                     random_state=101)"
   ]
  },
  {
   "cell_type": "code",
   "execution_count": 7,
   "metadata": {},
   "outputs": [],
   "source": [
    "from sklearn.preprocessing import StandardScaler\n",
    "scaler = StandardScaler()\n",
    "scaler.fit(X_train)\n",
    "X_train = scaler.transform(X_train)\n",
    "X_test = scaler.transform(X_test)"
   ]
  },
  {
   "cell_type": "code",
   "execution_count": 11,
   "metadata": {},
   "outputs": [],
   "source": [
    "from sklearn.linear_model import ElasticNet\n",
    "from sklearn.model_selection import RandomizedSearchCV\n",
    "import scipy"
   ]
  },
  {
   "cell_type": "code",
   "execution_count": 16,
   "metadata": {},
   "outputs": [],
   "source": [
    "model = ElasticNet()\n",
    "param_distributions = {\n",
    "    'alpha': scipy.stats.uniform(0.01, ),\n",
    "    'l1_ratio': scipy.stats.uniform(0.1, 0.9)\n",
    "}\n",
    "#scipy.stats.uniform takes"
   ]
  },
  {
   "cell_type": "code",
   "execution_count": 19,
   "metadata": {},
   "outputs": [
    {
     "data": {
      "text/plain": [
       "array([0.17735646, 0.31755447, 0.2126429 , 0.4593139 , 0.20829458,\n",
       "       0.66753386, 0.38192674, 0.46282466, 0.73125142, 0.35060018])"
      ]
     },
     "execution_count": 19,
     "metadata": {},
     "output_type": "execute_result"
    }
   ],
   "source": [
    "scipy.stats.uniform(0.01, 1).rvs(10)"
   ]
  },
  {
   "cell_type": "code",
   "execution_count": null,
   "metadata": {},
   "outputs": [
    {
     "name": "stdout",
     "output_type": "stream",
     "text": [
      "Fitting 5 folds for each of 10 candidates, totalling 50 fits\n",
      "[CV] END alpha=0.5263986277024462, l1_ratio=0.6136008281813258; total time=   0.0s\n",
      "[CV] END alpha=0.5263986277024462, l1_ratio=0.6136008281813258; total time=   0.0s\n",
      "[CV] END alpha=0.5263986277024462, l1_ratio=0.6136008281813258; total time=   0.0s\n",
      "[CV] END alpha=0.5263986277024462, l1_ratio=0.6136008281813258; total time=   0.0s\n",
      "[CV] END alpha=0.5263986277024462, l1_ratio=0.6136008281813258; total time=   0.0s\n",
      "[CV] END alpha=0.038474226478096944, l1_ratio=0.2543694906025928; total time=   0.0s\n",
      "[CV] END alpha=0.038474226478096944, l1_ratio=0.2543694906025928; total time=   0.0s\n",
      "[CV] END alpha=0.038474226478096944, l1_ratio=0.2543694906025928; total time=   0.0s\n",
      "[CV] END alpha=0.038474226478096944, l1_ratio=0.2543694906025928; total time=   0.0s\n",
      "[CV] END alpha=0.038474226478096944, l1_ratio=0.2543694906025928; total time=   0.0s\n",
      "[CV] END alpha=0.6952769816973126, l1_ratio=0.8505071763724689; total time=   0.0s\n",
      "[CV] END alpha=0.6952769816973126, l1_ratio=0.8505071763724689; total time=   0.0s\n",
      "[CV] END alpha=0.6952769816973126, l1_ratio=0.8505071763724689; total time=   0.0s\n",
      "[CV] END alpha=0.6952769816973126, l1_ratio=0.8505071763724689; total time=   0.0s\n",
      "[CV] END alpha=0.6952769816973126, l1_ratio=0.8505071763724689; total time=   0.0s\n",
      "[CV] END alpha=0.3169662196722378, l1_ratio=0.9042517717150576; total time=   0.0s\n",
      "[CV] END alpha=0.3169662196722378, l1_ratio=0.9042517717150576; total time=   0.0s\n",
      "[CV] END alpha=0.3169662196722378, l1_ratio=0.9042517717150576; total time=   0.0s\n",
      "[CV] END alpha=0.3169662196722378, l1_ratio=0.9042517717150576; total time=   0.0s\n",
      "[CV] END alpha=0.3169662196722378, l1_ratio=0.9042517717150576; total time=   0.0s\n",
      "[CV] END alpha=0.7315438617683047, l1_ratio=0.2709450587843171; total time=   0.0s\n",
      "[CV] END alpha=0.7315438617683047, l1_ratio=0.2709450587843171; total time=   0.0s\n",
      "[CV] END alpha=0.7315438617683047, l1_ratio=0.2709450587843171; total time=   0.0s\n",
      "[CV] END alpha=0.7315438617683047, l1_ratio=0.2709450587843171; total time=   0.0s\n",
      "[CV] END alpha=0.7315438617683047, l1_ratio=0.2709450587843171; total time=   0.0s\n",
      "[CV] END alpha=0.5642275911247872, l1_ratio=0.4169187586239528; total time=   0.0s\n",
      "[CV] END alpha=0.5642275911247872, l1_ratio=0.4169187586239528; total time=   0.0s\n",
      "[CV] END alpha=0.5642275911247872, l1_ratio=0.4169187586239528; total time=   0.0s\n",
      "[CV] END alpha=0.5642275911247872, l1_ratio=0.4169187586239528; total time=   0.0s\n",
      "[CV] END alpha=0.5642275911247872, l1_ratio=0.4169187586239528; total time=   0.0s\n",
      "[CV] END alpha=0.19189240266007868, l1_ratio=0.807041585677923; total time=   0.0s\n",
      "[CV] END alpha=0.19189240266007868, l1_ratio=0.807041585677923; total time=   0.0s\n",
      "[CV] END alpha=0.19189240266007868, l1_ratio=0.807041585677923; total time=   0.0s\n",
      "[CV] END alpha=0.19189240266007868, l1_ratio=0.807041585677923; total time=   0.0s\n",
      "[CV] END alpha=0.19189240266007868, l1_ratio=0.807041585677923; total time=   0.0s\n",
      "[CV] END alpha=0.9754832224119693, l1_ratio=0.30911829563328463; total time=   0.0s\n",
      "[CV] END alpha=0.9754832224119693, l1_ratio=0.30911829563328463; total time=   0.0s\n",
      "[CV] END alpha=0.9754832224119693, l1_ratio=0.30911829563328463; total time=   0.0s\n",
      "[CV] END alpha=0.9754832224119693, l1_ratio=0.30911829563328463; total time=   0.0s\n",
      "[CV] END alpha=0.9754832224119693, l1_ratio=0.30911829563328463; total time=   0.0s\n",
      "[CV] END alpha=0.09356143366334367, l1_ratio=0.6431935800620967; total time=   0.0s\n",
      "[CV] END alpha=0.09356143366334367, l1_ratio=0.6431935800620967; total time=   0.0s\n",
      "[CV] END alpha=0.09356143366334367, l1_ratio=0.6431935800620967; total time=   0.0s\n",
      "[CV] END alpha=0.09356143366334367, l1_ratio=0.6431935800620967; total time=   0.0s\n",
      "[CV] END alpha=0.09356143366334367, l1_ratio=0.6431935800620967; total time=   0.0s\n",
      "[CV] END alpha=0.7389927572876178, l1_ratio=0.3486149456475365; total time=   0.0s\n",
      "[CV] END alpha=0.7389927572876178, l1_ratio=0.3486149456475365; total time=   0.0s\n",
      "[CV] END alpha=0.7389927572876178, l1_ratio=0.3486149456475365; total time=   0.0s\n",
      "[CV] END alpha=0.7389927572876178, l1_ratio=0.3486149456475365; total time=   0.0s\n",
      "[CV] END alpha=0.7389927572876178, l1_ratio=0.3486149456475365; total time=   0.0s\n"
     ]
    }
   ],
   "source": [
    "r_grid_model = RandomizedSearchCV(estimator=model, \n",
    "                                  param_distributions=param_distributions,\n",
    "                                  cv=5,\n",
    "                                  verbose=2,\n",
    "                                  scoring='neg_mean_squared_error',\n",
    "                                  random_state=101)\n",
    "r_grid_model.fit(X_train, y_train)\n",
    "r_grid_model.best_params_\n",
    "y_pred_r = r_grid_model.predict(X_test)\n"
   ]
  },
  {
   "cell_type": "code",
   "execution_count": 21,
   "metadata": {},
   "outputs": [],
   "source": [
    "from sklearn.metrics import mean_squared_error"
   ]
  },
  {
   "cell_type": "code",
   "execution_count": 24,
   "metadata": {},
   "outputs": [
    {
     "data": {
      "text/plain": [
       "2.4742534593904257"
      ]
     },
     "execution_count": 24,
     "metadata": {},
     "output_type": "execute_result"
    }
   ],
   "source": [
    "mean_squared_error(y_test, y_pred_r)\n",
    "\n",
    "# when computing recources are limited, RandomizedSearchCV is preferred\n",
    "# when computing resources are not limited, GridSearchCV is preferred"
   ]
  }
 ],
 "metadata": {
  "kernelspec": {
   "display_name": "venv",
   "language": "python",
   "name": "python3"
  },
  "language_info": {
   "codemirror_mode": {
    "name": "ipython",
    "version": 3
   },
   "file_extension": ".py",
   "mimetype": "text/x-python",
   "name": "python",
   "nbconvert_exporter": "python",
   "pygments_lexer": "ipython3",
   "version": "3.13.5"
  }
 },
 "nbformat": 4,
 "nbformat_minor": 2
}
